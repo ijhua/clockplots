{
  "nbformat": 4,
  "nbformat_minor": 0,
  "metadata": {
    "kernelspec": {
      "display_name": "Python 3",
      "language": "python",
      "name": "python3"
    },
    "language_info": {
      "codemirror_mode": {
        "name": "ipython",
        "version": 3
      },
      "file_extension": ".py",
      "mimetype": "text/x-python",
      "name": "python",
      "nbconvert_exporter": "python",
      "pygments_lexer": "ipython3",
      "version": "3.6.8"
    },
    "colab": {
      "name": "seaUgrad clocks.ipynb",
      "provenance": [],
      "collapsed_sections": []
    }
  },
  "cells": [
    {
      "cell_type": "markdown",
      "metadata": {
        "id": "EREUgXCpL_MJ",
        "colab_type": "text"
      },
      "source": [
        "Code specific for Colab"
      ]
    },
    {
      "cell_type": "code",
      "metadata": {
        "id": "1Sc_xNPF5b9B",
        "colab_type": "code",
        "colab": {
          "base_uri": "https://localhost:8080/",
          "height": 34
        },
        "outputId": "8d2a2912-2b15-454d-ff38-a78d57da6da6"
      },
      "source": [
        "#code for colab to mount to my google drive account. needs to be run when the runtime restarts\n",
        "from google.colab import drive\n",
        "drive.mount('/content/drive')"
      ],
      "execution_count": null,
      "outputs": [
        {
          "output_type": "stream",
          "text": [
            "Drive already mounted at /content/drive; to attempt to forcibly remount, call drive.mount(\"/content/drive\", force_remount=True).\n"
          ],
          "name": "stdout"
        }
      ]
    },
    {
      "cell_type": "code",
      "metadata": {
        "id": "IY4CJxaAeiGu",
        "colab_type": "code",
        "colab": {
          "base_uri": "https://localhost:8080/",
          "height": 68
        },
        "outputId": "7c4d2ad2-5431-4281-c6e6-61ee9b519c13"
      },
      "source": [
        "#install the python package astral, which gives time and date for positions of the sun in a location\n",
        "!pip install astral"
      ],
      "execution_count": null,
      "outputs": [
        {
          "output_type": "stream",
          "text": [
            "Requirement already satisfied: astral in /usr/local/lib/python3.6/dist-packages (2.2)\n",
            "Requirement already satisfied: dataclasses; python_version == \"3.6\" in /usr/local/lib/python3.6/dist-packages (from astral) (0.7)\n",
            "Requirement already satisfied: pytz in /usr/local/lib/python3.6/dist-packages (from astral) (2018.9)\n"
          ],
          "name": "stdout"
        }
      ]
    },
    {
      "cell_type": "code",
      "metadata": {
        "id": "0-SdBiUi5xkW",
        "colab_type": "code",
        "colab": {
          "base_uri": "https://localhost:8080/",
          "height": 34
        },
        "outputId": "0fa36dba-21cd-436a-a5c6-afc04a38d8e1"
      },
      "source": [
        "cd 'drive/My Drive/data_clock'"
      ],
      "execution_count": null,
      "outputs": [
        {
          "output_type": "stream",
          "text": [
            "/content/drive/My Drive/data_clock\n"
          ],
          "name": "stdout"
        }
      ]
    },
    {
      "cell_type": "markdown",
      "metadata": {
        "id": "20xRzYw1MGH0",
        "colab_type": "text"
      },
      "source": [
        "Python code for analysis"
      ]
    },
    {
      "cell_type": "code",
      "metadata": {
        "id": "Rh8138dd4kGw",
        "colab_type": "code",
        "colab": {
          "base_uri": "https://localhost:8080/",
          "height": 71
        },
        "outputId": "ea521a10-e952-4a6f-a56b-2e9673c25a30"
      },
      "source": [
        "#import packages needed for this code\n",
        "import pandas as pd\n",
        "import datetime as dt\n",
        "import astral\n",
        "import astral.sun\n",
        "from astral.geocoder import database, lookup\n",
        "from statistics import mean\n",
        "import numpy as np\n",
        "import seaborn as sns\n",
        "import matplotlib.pyplot as plt"
      ],
      "execution_count": null,
      "outputs": [
        {
          "output_type": "stream",
          "text": [
            "/usr/local/lib/python3.6/dist-packages/statsmodels/tools/_testing.py:19: FutureWarning: pandas.util.testing is deprecated. Use the functions in the public API at pandas.testing instead.\n",
            "  import pandas.util.testing as tm\n"
          ],
          "name": "stderr"
        }
      ]
    },
    {
      "cell_type": "code",
      "metadata": {
        "id": "nT0QtIJ-4kG0",
        "colab_type": "code",
        "colab": {}
      },
      "source": [
        "#input file is Jason's output. read with pandas\n",
        "df = pd.read_parquet(\"SeaUgradTimingAnalysis.parquet\",engine=\"auto\")\n",
        "#set the date column to be in a datetime type instead of string/obj\n",
        "df[\"Date\"] = pd.to_datetime(df[\"Date\"])\n",
        "#index needs to be reset because there were multiple rows with the same index which messed with my later functions\n",
        "df = df.reset_index()"
      ],
      "execution_count": null,
      "outputs": []
    },
    {
      "cell_type": "markdown",
      "metadata": {
        "id": "NwH3VeheMrDY",
        "colab_type": "text"
      },
      "source": [
        "Adding solar noon and midnight"
      ]
    },
    {
      "cell_type": "code",
      "metadata": {
        "id": "loBdV5P44kG3",
        "colab_type": "code",
        "colab": {}
      },
      "source": [
        "#set the city to Seattle for astral\n",
        "city = lookup(\"Seattle\",database())"
      ],
      "execution_count": null,
      "outputs": []
    },
    {
      "cell_type": "code",
      "metadata": {
        "id": "T4HnJCks4kG_",
        "colab_type": "code",
        "colab": {}
      },
      "source": [
        "#define a function to calculate midnight and noon for the city\n",
        "def midnoon(df,row):\n",
        "  \"\"\"\n",
        "  Parameters\n",
        "  ----------\n",
        "  df : dataframe\n",
        "    The dataframe that has the date column that you want to calculate midnight and noon for\n",
        "  row: int\n",
        "    Row of cell that sould be converted\n",
        "\n",
        "  Returns\n",
        "  -------\n",
        "  list?\n",
        "    2 datetime values. First is midnight, second is noon\n",
        "  \"\"\"\n",
        "  date1 = df[\"Date\"][row].to_pydatetime().date() + dt.timedelta(days=1)\n",
        "  mid = astral.sun.midnight(city.observer, date=date1,tzinfo=\"America/Los_Angeles\")\n",
        "  noon = astral.sun.noon(city.observer, date=date1,tzinfo=\"America/Los_Angeles\")\n",
        "  return dt.datetime.combine(mid.date(),mid.time()),dt.datetime.combine(noon.date(),noon.time())"
      ],
      "execution_count": null,
      "outputs": []
    },
    {
      "cell_type": "code",
      "metadata": {
        "id": "8N7Y04sB4kHB",
        "colab_type": "code",
        "colab": {}
      },
      "source": [
        "#create a new column in the dataframe with the midnight times\n",
        "mids = []\n",
        "for a in range(len(df)):\n",
        "    mids.append(midnoon(df,a)[0])\n",
        "df[\"midnight\"] = mids"
      ],
      "execution_count": null,
      "outputs": []
    },
    {
      "cell_type": "code",
      "metadata": {
        "id": "OM_2zwAK4kHE",
        "colab_type": "code",
        "colab": {}
      },
      "source": [
        "#create a new column in the dataframe with the noon times\n",
        "noons = []\n",
        "for a in range(len(df)):\n",
        "    noons.append(midnoon(df,a)[1])\n",
        "df[\"noon\"] = noons"
      ],
      "execution_count": null,
      "outputs": []
    },
    {
      "cell_type": "code",
      "metadata": {
        "id": "OBqa7NH14kHH",
        "colab_type": "code",
        "colab": {}
      },
      "source": [
        "#function that functions like Jason's MSLM. It converts a datetime into minutes since last midnight?\n",
        "#https://github.com/jasongfleischer/SALA/blob/01994be853a20449dea0eed9ae0e69099d554695/Analyze%20by%20person.ipynb\n",
        "def conv(df,col,row):\n",
        "  \"\"\"\n",
        "  Parameters\n",
        "  ----------\n",
        "  df: dataframe\n",
        "  col: str\n",
        "    Name of the column that should be converted\n",
        "  row: int\n",
        "    Row of cell that should be converted\n",
        "\n",
        "  Returns\n",
        "  -------\n",
        "  int\n",
        "    Integer that equals number of minutes since midnight\n",
        "  \"\"\"\n",
        "def conv(df,col,row):\n",
        "  date1 = dt.datetime.combine(df[\"Date\"][row].to_pydatetime().date(), dt.time(0, 0, 0))\n",
        "  converted =(df[col][row].to_pydatetime()-date1).total_seconds()/60\n",
        "  return converted"
      ],
      "execution_count": null,
      "outputs": []
    },
    {
      "cell_type": "code",
      "metadata": {
        "id": "IVOkOT_v4kHJ",
        "colab_type": "code",
        "colab": {}
      },
      "source": [
        "#convert midnight column into minutes since midnight\n",
        "mid_mslm = []\n",
        "for a in range(len(df)):\n",
        "    mid_mslm.append(conv(df,\"midnight\",a))\n",
        "df[\"Midnight\"] = mid_mslm"
      ],
      "execution_count": null,
      "outputs": []
    },
    {
      "cell_type": "code",
      "metadata": {
        "id": "2FT1ueEi4kHM",
        "colab_type": "code",
        "colab": {}
      },
      "source": [
        "#convert noon column into minutes since midnight\n",
        "noon_mslm = []\n",
        "for a in range(len(df)):\n",
        "    noon_mslm.append(conv(df,\"noon\",a))\n",
        "df[\"Noon\"] = noon_mslm"
      ],
      "execution_count": null,
      "outputs": []
    },
    {
      "cell_type": "markdown",
      "metadata": {
        "id": "BGUhDuG5MvVC",
        "colab_type": "text"
      },
      "source": [
        "Add the sleep data (instead of actiwatch data)"
      ]
    },
    {
      "cell_type": "code",
      "metadata": {
        "id": "APNCXmdRDNN4",
        "colab_type": "code",
        "colab": {}
      },
      "source": [
        "#get the cleaned onset and offset data and merge with the subjects that are included\n",
        "ref = pd.read_csv(\"subjects_included.csv\",usecols=['Quarter', 'Year', 'Class', 'Subject ID'])\n",
        "sleepdata = pd.read_csv(\"Sleep_Onset_Offset_All_Years.csv\")\n",
        "sleepdata = sleepdata.rename(columns={\"subject\":\"Subject ID\"})\n",
        "sleepdata[\"onset\"] = pd.to_datetime(sleepdata[\"onset\"])\n",
        "sleepdata[\"offset\"] = pd.to_datetime(sleepdata[\"offset\"])\n",
        "df2 = ref.merge(sleepdata,how=\"left\")\n",
        "df2 = df2.reset_index(drop=True)"
      ],
      "execution_count": null,
      "outputs": []
    },
    {
      "cell_type": "code",
      "metadata": {
        "id": "amOHS_NW4kHZ",
        "colab_type": "code",
        "colab": {}
      },
      "source": [
        "#Jason has a column called \"Date\" which seems to be the \"onset\" date. But, if the onset is after midnight, it's the day before. \n",
        "#This function returns a date that follows that definition\n",
        "def onset_date(df,row):\n",
        "  \"\"\"\n",
        "  Parameters\n",
        "  ----------\n",
        "  df: dataframe object\n",
        "  row: int\n",
        "\n",
        "  Returns\n",
        "  -------\n",
        "  datetime obj\n",
        "  \"\"\"\n",
        "  if pd.isna(df[\"onset\"][row]):\n",
        "      date1 = df[\"offset\"][row].to_pydatetime().date() - dt.timedelta(days=1)\n",
        "  else:\n",
        "      time1 = df[\"onset\"][row].time()\n",
        "      if time1 < dt.time(12):\n",
        "          date1 = df[\"onset\"][row].to_pydatetime().date() - dt.timedelta(days=1)\n",
        "      else:\n",
        "          date1 = df[\"onset\"][row].date()\n",
        "  return date1"
      ],
      "execution_count": null,
      "outputs": []
    },
    {
      "cell_type": "code",
      "metadata": {
        "id": "uKutcjJf4kHc",
        "colab_type": "code",
        "colab": {}
      },
      "source": [
        "#create a date column in the second dataframe and set the dtype to datetime\n",
        "dates = []\n",
        "for a in range(len(df2)):\n",
        "    dates.append(onset_date(df2,a))\n",
        "df2[\"Date\"] = dates\n",
        "df2[\"Date\"] = df2[\"Date\"].astype('datetime64')"
      ],
      "execution_count": null,
      "outputs": []
    },
    {
      "cell_type": "code",
      "metadata": {
        "id": "HsJtAQT24kHO",
        "colab_type": "code",
        "colab": {}
      },
      "source": [
        "#change object to specified dtype to make merging possible\n",
        "df['Year']=df['Year'].astype(int)\n",
        "df['Class']=df['Class'].astype(int)\n",
        "df['Subject ID']=df['Subject ID'].astype(int)\n",
        "df['Date']=df['Date'].astype('datetime64')"
      ],
      "execution_count": null,
      "outputs": []
    },
    {
      "cell_type": "code",
      "metadata": {
        "id": "eaRXZIyqPX-f",
        "colab_type": "code",
        "colab": {}
      },
      "source": [
        "#just checking how the dataframe looks\n",
        "#df2.to_csv(\"subjects_sleep.csv\")"
      ],
      "execution_count": null,
      "outputs": []
    },
    {
      "cell_type": "code",
      "metadata": {
        "id": "Ngbta_6T4kHh",
        "colab_type": "code",
        "colab": {}
      },
      "source": [
        "#new merged dataframe\n",
        "df3 = df.merge(df2,how=\"right\",on=[\"Date\",\"Quarter\",\"Year\",\"Class\",\"Subject ID\"])"
      ],
      "execution_count": null,
      "outputs": []
    },
    {
      "cell_type": "code",
      "metadata": {
        "id": "5pK0yfJQ4kHl",
        "colab_type": "code",
        "colab": {}
      },
      "source": [
        "#convert the onset and offset times to minutes since midnight\n",
        "on_mslm = []\n",
        "for a in range(len(df3)):\n",
        "    on_mslm.append(conv(df3,\"onset\",a))\n",
        "df3[\"Onset_MSLM\"] = on_mslm\n",
        "off_mslm = []\n",
        "for a in range(len(df3)):\n",
        "    off_mslm.append(conv(df3,\"offset\",a))\n",
        "df3[\"Offset_MSLM\"] = off_mslm"
      ],
      "execution_count": null,
      "outputs": []
    },
    {
      "cell_type": "code",
      "metadata": {
        "id": "QzcXOTkyFaGj",
        "colab_type": "code",
        "colab": {}
      },
      "source": [
        "#drop rows where the values in the \"Out of School\" column are empty. This is because there were some dates in the second dataframe that were not in Jason's dataset. Including these dates without a defined in/out of school messes with the make clock plots function\n",
        "df3 = df3.dropna(axis=0,subset=[\"OutofSchool\"])"
      ],
      "execution_count": null,
      "outputs": []
    },
    {
      "cell_type": "code",
      "metadata": {
        "id": "WOCtO5UC46it",
        "colab_type": "code",
        "colab": {}
      },
      "source": [
        "#save the dataframe as a CSV to check if the dataframe is ok\n",
        "#df3.to_csv(\"merge check.csv\")"
      ],
      "execution_count": null,
      "outputs": []
    },
    {
      "cell_type": "markdown",
      "metadata": {
        "id": "VICqDf_aM2VH",
        "colab_type": "text"
      },
      "source": [
        "Clock plots"
      ]
    },
    {
      "cell_type": "code",
      "metadata": {
        "id": "Xpwg4Xst4kHn",
        "colab_type": "code",
        "colab": {}
      },
      "source": [
        "#Jason wrote this function\n",
        "def map_mins_to_rads(dseries):\n",
        "  med = dseries.median()\n",
        "  p25 = dseries.quantile(0.25)\n",
        "  p75 = dseries.quantile(0.75)    \n",
        "  return ([x/1440.0*2*np.pi for x in np.arange(p25,p75)], med/1440.0*2*np.pi)\n",
        "\n",
        "#Jason also wrote this\n",
        "def tprint(mins):\n",
        "  h = int(mins/60.)\n",
        "  m = int( ( mins - h*60) )\n",
        "  if h>=24.0:\n",
        "      h = h-24\n",
        "  return '{:02d}:{:02d}'.format(h,m)\n",
        "\n",
        "#I wrote this before Jason updated his code, but when I removed it, something broke. It's not used so removing it should be fine\n",
        "def convert_mins(num):\n",
        "  duration = dt.timedelta(minutes=num)\n",
        "  days, seconds = duration.days, duration.seconds\n",
        "  hours = days * 24 + seconds // 3600\n",
        "  minutes = (seconds % 3600) // 60\n",
        "  if hours >24:\n",
        "      hours -=24\n",
        "  return str(hours).zfill(2)+\":\"+str(minutes).zfill(2)\n",
        "\n",
        "#Jason wrote this function, but I updated it to include the solar noon and midnight on the clock plots\n",
        "def make_clock_plots( timingData, Groupby, Thresholds=False, figsize=(5,10) ):\n",
        "  sns.set_style(\"white\")\n",
        "  \n",
        "  if not Thresholds:\n",
        "      Thresholds = timingData.Threshold.unique()\n",
        "      \n",
        "  gcols=sns.color_palette('Set2',7)\n",
        "\n",
        "  boxrad=0.3/len(Thresholds) \n",
        "  mw = 2*np.pi/1440\n",
        "  boxsep = 1.1\n",
        "\n",
        "  Ng = len(timingData[Groupby].unique())\n",
        "  f = plt.figure(figsize=figsize)\n",
        "  \n",
        "  for gn, grp in enumerate(timingData[Groupby].unique()):\n",
        "    ax = f.add_subplot(Ng,1,gn+1, projection='polar')\n",
        "    tbg = timingData[timingData[Groupby]==grp]\n",
        "    sunrise=(tbg['Sunrise']*60).median() #now its in hours, used to be timestamp #.apply(timestamp_to_minutes).median()\n",
        "    sunset=(tbg['Sunset']*60).median() #now its in hours, used to be timestamp #.apply(timestamp_to_minutes).median()\n",
        "    \n",
        "    dark=[x/1440.0*2*np.pi for x in np.arange(0,sunrise)]\n",
        "    ax.bar(dark, np.ones_like(dark), width=0.02, color=[0.42,0.42,0.42], linewidth=0)\n",
        "    dark=[x/1440.0*2*np.pi for x in np.arange(sunset,1440)]\n",
        "    ax.bar(dark, np.ones_like(dark), width=0.02, color=[0.42,0.42,0.42], linewidth=0)\n",
        "    \n",
        "    midnight = (tbg[\"Midnight\"]).median()\n",
        "    noon = (tbg[\"Noon\"]).median()\n",
        "    noon_dark = [noon/1440.0*2*np.pi]\n",
        "    ax.bar(noon_dark,np.ones_like(noon_dark), width=0.05, color='#ffeebf', linewidth=0)\n",
        "    mid_dark = [midnight/1440.0*2*np.pi]\n",
        "    ax.bar(mid_dark,np.ones_like(mid_dark), width=0.05, color='#ffeebf', linewidth=0)\n",
        "    \n",
        "    lli=[]\n",
        "    lll=[]\n",
        "    for i,thr in enumerate(Thresholds):\n",
        "      added = False\n",
        "      tbgt = timingData[(timingData[Groupby]==grp)&(timingData['Threshold']==thr)]\n",
        "      onset = 4*60+tbgt['Mins to FL from 4AM']\n",
        "      offset = 4*60+tbgt['Mins to LL from 4AM']\n",
        "      onbox, onmed = map_mins_to_rads(onset)\n",
        "      offbox, offmed = map_mins_to_rads(offset)        \n",
        "      ll=ax.bar(onbox, np.full(len(onbox), boxrad), \n",
        "                width=mw, bottom=1.0-(i+1)*boxrad*boxsep, \n",
        "                color=gcols[i], linewidth=0, alpha=1.)\n",
        "      _ =ax.bar(onmed, boxrad, \n",
        "                width=0.02, bottom=1.0-(i+1)*boxrad*boxsep, \n",
        "                color=[0.2,0.2,0.2], linewidth=0)\n",
        "      # for weird small datasets there can be low threshold light onset without offset; \n",
        "      # this craziness is to take care of that odd case!\n",
        "      if (len(ll)>0): \n",
        "        lli.append(ll)\n",
        "        lll.append('{:3d}lx {}-{}'.format(thr, tprint(onset.median()), tprint(offset.median())) )\n",
        "        added = True\n",
        "      \n",
        "      ll=ax.bar(offbox, np.full(len(offbox), boxrad), \n",
        "                width=mw, bottom=1.0-(i+1)*boxrad*boxsep, \n",
        "                color=gcols[i], linewidth=0, alpha=1.)\n",
        "      _ =ax.bar(offmed, boxrad, \n",
        "                width=0.02, bottom=1.0-(i+1)*boxrad*boxsep, \n",
        "                color=[0.2,0.2,0.2], linewidth=0) \n",
        "      if (len(ll)>0) and (not added):\n",
        "        lli.append(ll)\n",
        "        lll.append('{}lx'.format(thr))\n",
        "    offset = tbgt['Offset_MSLM']-1440\n",
        "    onset = tbgt['Onset_MSLM']\n",
        "    offbox, offmed = map_mins_to_rads(offset)\n",
        "    onbox, onmed = map_mins_to_rads(onset)\n",
        "    p=ax.bar(offbox, np.full(len(offbox), 2*boxrad), \n",
        "              width=mw, bottom=1.0-(i+4)*boxrad*boxsep, \n",
        "              color=gcols[-2], linewidth=0, alpha=1.)\n",
        "    _ =ax.bar(offmed, 2*boxrad, width=0.02, \n",
        "              bottom=1.0-(i+4)*boxrad*boxsep, \n",
        "              color=[0.2,0.2,0.2], linewidth=0)\n",
        "    ll=ax.bar(onbox, np.full(len(onbox), 2*boxrad), \n",
        "              width=mw, bottom=1.0-(i+4)*boxrad*boxsep, \n",
        "              color=gcols[-2], linewidth=0, alpha=1.)\n",
        "    _ =ax.bar(onmed, 2*boxrad, \n",
        "              width=0.02, bottom=1.0-(i+4)*boxrad*boxsep, \n",
        "              color=[0.2,0.2,0.2], linewidth=0)\n",
        "    lli.append(ll)\n",
        "    lll.append('Sleep {}-{}'.format(tprint(onset.median()), tprint(offset.median())) )\n",
        "\n",
        "    thetat = np.arange(0,6)*60\n",
        "    thetalbl = ['00:00','04:00','08:00','12:00','16:00','20:00']\n",
        "    ax.set_thetagrids(thetat, labels=thetalbl) #with new matplotlib this parameter is gone frac=1.27)\n",
        "    ax.set_theta_direction(-1)\n",
        "    ax.set_theta_offset(np.pi)\n",
        "    ax.set_rticks([])  # less radial ticks\n",
        "    ax.set_rmax(1.0)\n",
        "    ax.grid(False)\n",
        "    \n",
        "    #if gn+1==Ng:\n",
        "    ax.legend(lli,lll,loc=[1.01,0.01],prop={'family': 'monospace'})\n",
        "    \n",
        "    nuids = len(tbg.UID.unique())\n",
        "    ndays = len(tbg.Date.unique())\n",
        "    pdays = len(tbgt[['UID','Date']].drop_duplicates())\n",
        "    title = \"{}={}: {} subjects, {} dates, {} person-days\".format(Groupby,grp,nuids,ndays,pdays)\n",
        "    ax.set_title(title, y = 1.02) #loc='center', ha='center', va='bottom')\n",
        "    \n",
        "      \n",
        "  plt.subplots_adjust(wspace = 1.2)\n",
        "  #plt.figtext(0.25,0.5,\"Sunrise: {:.2f}, Sunset: {:.2f}, Midnight: {:.2f}, Noon: {:.2f}\".format(sunrise, sunset, midnight, noon))"
      ],
      "execution_count": null,
      "outputs": []
    },
    {
      "cell_type": "code",
      "metadata": {
        "id": "rPek7dXm4kHp",
        "colab_type": "code",
        "colab": {
          "base_uri": "https://localhost:8080/",
          "height": 442
        },
        "outputId": "db9cba3e-035b-4050-932b-e5e828a02cb8"
      },
      "source": [
        "#create the clock plots in png and eps formats\n",
        "quarters = [\"Winter\",\"Spring\",\"Summer\",\"Fall\"]\n",
        "for Q in quarters:\n",
        "  print(Q)\n",
        "  make_clock_plots( df3.query('Quarter == @Q'), 'OutofSchool', Thresholds=[500,50,5], figsize=(10,10))\n",
        "  plt.suptitle(Q+' quarter')\n",
        "  #plt.tight_layout()\n",
        "  plt.savefig('light figures 2 test/clockplot-'+Q+'-quarter.png',dpi=300)\n",
        "  plt.savefig('light figures 2 test/clockplot-'+Q+'-quarter.eps',dpi=300,metadata='eps')\n",
        "  plt.close()\n",
        "  print(\"done with \"+Q)\n",
        "print(\"done\")"
      ],
      "execution_count": null,
      "outputs": [
        {
          "output_type": "stream",
          "text": [
            "Winter\n"
          ],
          "name": "stdout"
        },
        {
          "output_type": "stream",
          "text": [
            "The PostScript backend does not support transparency; partially transparent artists will be rendered opaque.\n",
            "The PostScript backend does not support transparency; partially transparent artists will be rendered opaque.\n",
            "The PostScript backend does not support transparency; partially transparent artists will be rendered opaque.\n",
            "The PostScript backend does not support transparency; partially transparent artists will be rendered opaque.\n"
          ],
          "name": "stderr"
        },
        {
          "output_type": "stream",
          "text": [
            "done with Winter\n",
            "Spring\n"
          ],
          "name": "stdout"
        },
        {
          "output_type": "stream",
          "text": [
            "The PostScript backend does not support transparency; partially transparent artists will be rendered opaque.\n",
            "The PostScript backend does not support transparency; partially transparent artists will be rendered opaque.\n",
            "The PostScript backend does not support transparency; partially transparent artists will be rendered opaque.\n",
            "The PostScript backend does not support transparency; partially transparent artists will be rendered opaque.\n"
          ],
          "name": "stderr"
        },
        {
          "output_type": "stream",
          "text": [
            "done with Spring\n",
            "Summer\n"
          ],
          "name": "stdout"
        },
        {
          "output_type": "stream",
          "text": [
            "The PostScript backend does not support transparency; partially transparent artists will be rendered opaque.\n",
            "The PostScript backend does not support transparency; partially transparent artists will be rendered opaque.\n",
            "The PostScript backend does not support transparency; partially transparent artists will be rendered opaque.\n",
            "The PostScript backend does not support transparency; partially transparent artists will be rendered opaque.\n"
          ],
          "name": "stderr"
        },
        {
          "output_type": "stream",
          "text": [
            "done with Summer\n",
            "Fall\n"
          ],
          "name": "stdout"
        },
        {
          "output_type": "stream",
          "text": [
            "The PostScript backend does not support transparency; partially transparent artists will be rendered opaque.\n",
            "The PostScript backend does not support transparency; partially transparent artists will be rendered opaque.\n",
            "The PostScript backend does not support transparency; partially transparent artists will be rendered opaque.\n",
            "The PostScript backend does not support transparency; partially transparent artists will be rendered opaque.\n"
          ],
          "name": "stderr"
        },
        {
          "output_type": "stream",
          "text": [
            "done with Fall\n",
            "done\n"
          ],
          "name": "stdout"
        }
      ]
    },
    {
      "cell_type": "code",
      "metadata": {
        "id": "Fntmt5Nz9oZz",
        "colab_type": "code",
        "colab": {}
      },
      "source": [
        ""
      ],
      "execution_count": null,
      "outputs": []
    },
    {
      "cell_type": "code",
      "metadata": {
        "id": "Hdhi_KI_OAAr",
        "colab_type": "code",
        "colab": {}
      },
      "source": [
        ""
      ],
      "execution_count": null,
      "outputs": []
    }
  ]
}